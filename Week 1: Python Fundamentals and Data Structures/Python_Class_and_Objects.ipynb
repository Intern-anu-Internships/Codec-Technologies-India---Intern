{
  "nbformat": 4,
  "nbformat_minor": 0,
  "metadata": {
    "colab": {
      "provenance": []
    },
    "kernelspec": {
      "name": "python3",
      "display_name": "Python 3"
    },
    "language_info": {
      "name": "python"
    }
  },
  "cells": [
    {
      "cell_type": "markdown",
      "source": [
        "**Python Class and Objects**"
      ],
      "metadata": {
        "id": "RsDKeNGIZeBK"
      }
    },
    {
      "cell_type": "code",
      "execution_count": 16,
      "metadata": {
        "id": "0RB5d8u-O4mv"
      },
      "outputs": [],
      "source": [
        "class MyComplexNumber:\n",
        "  # Constructor methods\n",
        "  def __init__(self, real = 0, img = 0):\n",
        "    print(\"MyComplexNumber contructor executing...\")\n",
        "    self.real_part = real\n",
        "    self.img_part = img\n",
        "\n",
        "  def displayComplex(self):\n",
        "    print(\"{0} + {1}j\".format(self.real_part, self.img_part))"
      ]
    },
    {
      "cell_type": "code",
      "source": [
        "# Create a new objec against MyComplexNumber\n",
        "\n",
        "cmplx1 = MyComplexNumber(40,50)\n",
        "\n",
        "# Calling displayComplex() function\n",
        "# Output: 40 + 5j\n",
        "cmplx1.displayComplex()"
      ],
      "metadata": {
        "colab": {
          "base_uri": "https://localhost:8080/"
        },
        "id": "8bc1HtXKP-sC",
        "outputId": "7b443983-e47b-4666-c9b8-9579a583d2a5"
      },
      "execution_count": 22,
      "outputs": [
        {
          "output_type": "stream",
          "name": "stdout",
          "text": [
            "MyComplexNumber contructor executing...\n",
            "40 + 50j\n"
          ]
        }
      ]
    },
    {
      "cell_type": "code",
      "source": [
        "# Create another object against MyComplexNumber class\n",
        "# and create a new attribute 'new_attribute'\n",
        "\n",
        "cmplx2 = MyComplexNumber(60, 70)\n",
        "cmplx2.new_attribute = 80\n",
        "cmplx2.displayComplex()\n",
        "\n",
        "# Output: (60, 70, 80)\n",
        "print((cmplx2.real_part, cmplx2.img_part, cmplx2.new_attribute))"
      ],
      "metadata": {
        "colab": {
          "base_uri": "https://localhost:8080/"
        },
        "id": "4IOPmdzFWgw1",
        "outputId": "e639ebe1-6a6e-46cc-cb77-635992093420"
      },
      "execution_count": 27,
      "outputs": [
        {
          "output_type": "stream",
          "name": "stdout",
          "text": [
            "MyComplexNumber contructor executing...\n",
            "60 + 70j\n",
            "(60, 70, 80)\n"
          ]
        }
      ]
    },
    {
      "cell_type": "code",
      "source": [
        "# but cmplx1 object doesn't have attribute 'new_attribute'\n",
        "# AttributeError: 'MyComplexNumber' object has no attribute 'new_attribute'\n",
        "\n",
        "cmplx1.new_attribute"
      ],
      "metadata": {
        "colab": {
          "base_uri": "https://localhost:8080/",
          "height": 183
        },
        "id": "Q1FtmUP-XUKl",
        "outputId": "fcf9aa8e-6874-4cb6-ed66-16d9602a047b"
      },
      "execution_count": 24,
      "outputs": [
        {
          "output_type": "error",
          "ename": "AttributeError",
          "evalue": "'MyComplexNumber' object has no attribute 'new_attribute'",
          "traceback": [
            "\u001b[0;31m---------------------------------------------------------------------------\u001b[0m",
            "\u001b[0;31mAttributeError\u001b[0m                            Traceback (most recent call last)",
            "\u001b[0;32m<ipython-input-24-7cfe06ea2505>\u001b[0m in \u001b[0;36m<cell line: 4>\u001b[0;34m()\u001b[0m\n\u001b[1;32m      2\u001b[0m \u001b[0;31m# AttributeError: 'MyComplexNumber' object has no attribute 'new_attribute'\u001b[0m\u001b[0;34m\u001b[0m\u001b[0;34m\u001b[0m\u001b[0m\n\u001b[1;32m      3\u001b[0m \u001b[0;34m\u001b[0m\u001b[0m\n\u001b[0;32m----> 4\u001b[0;31m \u001b[0mcmplx1\u001b[0m\u001b[0;34m.\u001b[0m\u001b[0mnew_attribute\u001b[0m\u001b[0;34m\u001b[0m\u001b[0;34m\u001b[0m\u001b[0m\n\u001b[0m",
            "\u001b[0;31mAttributeError\u001b[0m: 'MyComplexNumber' object has no attribute 'new_attribute'"
          ]
        }
      ]
    },
    {
      "cell_type": "code",
      "source": [
        "# Deleting object attributes and the object\n",
        "print(cmplx1)\n",
        "del cmplx1.real_part\n",
        "del cmplx1"
      ],
      "metadata": {
        "colab": {
          "base_uri": "https://localhost:8080/"
        },
        "id": "J_LU1KAgXxep",
        "outputId": "83bcc8a4-a126-479d-fdba-0ea6a6f45cbb"
      },
      "execution_count": 25,
      "outputs": [
        {
          "output_type": "stream",
          "name": "stdout",
          "text": [
            "<__main__.MyComplexNumber object at 0x784b05679a80>\n"
          ]
        }
      ]
    },
    {
      "cell_type": "code",
      "source": [
        "print(cmplx1)"
      ],
      "metadata": {
        "colab": {
          "base_uri": "https://localhost:8080/",
          "height": 147
        },
        "id": "KH9aUR_YYyJ_",
        "outputId": "d99e5f0d-f1ab-42f3-c2bb-2fed05564100"
      },
      "execution_count": 26,
      "outputs": [
        {
          "output_type": "error",
          "ename": "NameError",
          "evalue": "name 'cmplx1' is not defined",
          "traceback": [
            "\u001b[0;31m---------------------------------------------------------------------------\u001b[0m",
            "\u001b[0;31mNameError\u001b[0m                                 Traceback (most recent call last)",
            "\u001b[0;32m<ipython-input-26-1724591c7af0>\u001b[0m in \u001b[0;36m<cell line: 1>\u001b[0;34m()\u001b[0m\n\u001b[0;32m----> 1\u001b[0;31m \u001b[0mprint\u001b[0m\u001b[0;34m(\u001b[0m\u001b[0mcmplx1\u001b[0m\u001b[0;34m)\u001b[0m\u001b[0;34m\u001b[0m\u001b[0;34m\u001b[0m\u001b[0m\n\u001b[0m",
            "\u001b[0;31mNameError\u001b[0m: name 'cmplx1' is not defined"
          ]
        }
      ]
    }
  ]
}