{
  "nbformat": 4,
  "nbformat_minor": 0,
  "metadata": {
    "colab": {
      "provenance": []
    },
    "kernelspec": {
      "name": "python3",
      "display_name": "Python 3"
    },
    "language_info": {
      "name": "python"
    }
  },
  "cells": [
    {
      "cell_type": "markdown",
      "source": [
        "**Python Class and Objects**"
      ],
      "metadata": {
        "id": "RsDKeNGIZeBK"
      }
    },
    {
      "cell_type": "code",
      "execution_count": 1,
      "metadata": {
        "id": "0RB5d8u-O4mv"
      },
      "outputs": [],
      "source": [
        "class MyComplexNumber:\n",
        "  # Constructor methods\n",
        "  def __init__(self, real = 0, img = 0):\n",
        "    print(\"MyComplexNumber constructor executing...\")\n",
        "    self.real_part = real\n",
        "    self.img_part = img\n",
        "\n",
        "  def displayComplex(self):\n",
        "    print(\"{0} + {1}j\".format(self.real_part, self.img_part))"
      ]
    },
    {
      "cell_type": "code",
      "source": [
        "# Create a new object against MyComplexNumber\n",
        "\n",
        "cmplx1 = MyComplexNumber(40,50)\n",
        "\n",
        "# Calling displayComplex() function\n",
        "# Output: 40 + 5j\n",
        "cmplx1.displayComplex()"
      ],
      "metadata": {
        "colab": {
          "base_uri": "https://localhost:8080/"
        },
        "id": "8bc1HtXKP-sC",
        "outputId": "77ae3576-7761-4764-836e-c49d3e159910"
      },
      "execution_count": 2,
      "outputs": [
        {
          "output_type": "stream",
          "name": "stdout",
          "text": [
            "MyComplexNumber constructor executing...\n",
            "40 + 50j\n"
          ]
        }
      ]
    },
    {
      "cell_type": "code",
      "source": [
        "# Create another object against MyComplexNumber class\n",
        "# and create a new attribute 'new_attribute'\n",
        "\n",
        "cmplx2 = MyComplexNumber(60, 70)\n",
        "cmplx2.new_attribute = 80\n",
        "cmplx2.displayComplex()\n",
        "\n",
        "# Output: (60, 70, 80)\n",
        "print((cmplx2.real_part, cmplx2.img_part, cmplx2.new_attribute))"
      ],
      "metadata": {
        "colab": {
          "base_uri": "https://localhost:8080/"
        },
        "id": "4IOPmdzFWgw1",
        "outputId": "b67c4c87-21cf-48b9-852a-1d6ab0849fba"
      },
      "execution_count": 3,
      "outputs": [
        {
          "output_type": "stream",
          "name": "stdout",
          "text": [
            "MyComplexNumber constructor executing...\n",
            "60 + 70j\n",
            "(60, 70, 80)\n"
          ]
        }
      ]
    },
    {
      "cell_type": "code",
      "source": [
        "# but cmplx1 object doesn't have attribute 'new_attribute'\n",
        "# AttributeError: 'MyComplexNumber' object has no attribute 'new_attribute'\n",
        "\n",
        "cmplx1.new_attribute"
      ],
      "metadata": {
        "colab": {
          "base_uri": "https://localhost:8080/",
          "height": 183
        },
        "id": "Q1FtmUP-XUKl",
        "outputId": "656cb98c-7bae-4f17-89d0-433bbf558add"
      },
      "execution_count": 4,
      "outputs": [
        {
          "output_type": "error",
          "ename": "AttributeError",
          "evalue": "'MyComplexNumber' object has no attribute 'new_attribute'",
          "traceback": [
            "\u001b[0;31m---------------------------------------------------------------------------\u001b[0m",
            "\u001b[0;31mAttributeError\u001b[0m                            Traceback (most recent call last)",
            "\u001b[0;32m<ipython-input-4-7cfe06ea2505>\u001b[0m in \u001b[0;36m<cell line: 4>\u001b[0;34m()\u001b[0m\n\u001b[1;32m      2\u001b[0m \u001b[0;31m# AttributeError: 'MyComplexNumber' object has no attribute 'new_attribute'\u001b[0m\u001b[0;34m\u001b[0m\u001b[0;34m\u001b[0m\u001b[0m\n\u001b[1;32m      3\u001b[0m \u001b[0;34m\u001b[0m\u001b[0m\n\u001b[0;32m----> 4\u001b[0;31m \u001b[0mcmplx1\u001b[0m\u001b[0;34m.\u001b[0m\u001b[0mnew_attribute\u001b[0m\u001b[0;34m\u001b[0m\u001b[0;34m\u001b[0m\u001b[0m\n\u001b[0m",
            "\u001b[0;31mAttributeError\u001b[0m: 'MyComplexNumber' object has no attribute 'new_attribute'"
          ]
        }
      ]
    },
    {
      "cell_type": "code",
      "source": [
        "# Deleting object attributes and the object\n",
        "print(cmplx1)\n",
        "del cmplx1.real_part\n",
        "del cmplx1"
      ],
      "metadata": {
        "colab": {
          "base_uri": "https://localhost:8080/"
        },
        "id": "J_LU1KAgXxep",
        "outputId": "6d3db956-e1a9-4975-a611-e97c806ae530"
      },
      "execution_count": 5,
      "outputs": [
        {
          "output_type": "stream",
          "name": "stdout",
          "text": [
            "<__main__.MyComplexNumber object at 0x7d721540db10>\n"
          ]
        }
      ]
    },
    {
      "cell_type": "code",
      "source": [
        "print(cmplx1)"
      ],
      "metadata": {
        "colab": {
          "base_uri": "https://localhost:8080/",
          "height": 147
        },
        "id": "KH9aUR_YYyJ_",
        "outputId": "a082af39-44e9-4959-8224-e7f67ac27101"
      },
      "execution_count": 6,
      "outputs": [
        {
          "output_type": "error",
          "ename": "NameError",
          "evalue": "name 'cmplx1' is not defined",
          "traceback": [
            "\u001b[0;31m---------------------------------------------------------------------------\u001b[0m",
            "\u001b[0;31mNameError\u001b[0m                                 Traceback (most recent call last)",
            "\u001b[0;32m<ipython-input-6-1724591c7af0>\u001b[0m in \u001b[0;36m<cell line: 1>\u001b[0;34m()\u001b[0m\n\u001b[0;32m----> 1\u001b[0;31m \u001b[0mprint\u001b[0m\u001b[0;34m(\u001b[0m\u001b[0mcmplx1\u001b[0m\u001b[0;34m)\u001b[0m\u001b[0;34m\u001b[0m\u001b[0;34m\u001b[0m\u001b[0m\n\u001b[0m",
            "\u001b[0;31mNameError\u001b[0m: name 'cmplx1' is not defined"
          ]
        }
      ]
    }
  ]
}