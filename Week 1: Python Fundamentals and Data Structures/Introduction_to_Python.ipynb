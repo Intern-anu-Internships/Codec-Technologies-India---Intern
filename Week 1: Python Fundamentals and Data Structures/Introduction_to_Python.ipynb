{
  "nbformat": 4,
  "nbformat_minor": 0,
  "metadata": {
    "colab": {
      "provenance": []
    },
    "kernelspec": {
      "name": "python3",
      "display_name": "Python 3"
    },
    "language_info": {
      "name": "python"
    }
  },
  "cells": [
    {
      "cell_type": "markdown",
      "source": [
        "**Introduction to Python**"
      ],
      "metadata": {
        "id": "fBaGAKPMOM7u"
      }
    },
    {
      "cell_type": "code",
      "execution_count": 5,
      "metadata": {
        "colab": {
          "base_uri": "https://localhost:8080/"
        },
        "id": "RjXfS9UsK_B-",
        "outputId": "d9cc0077-f839-435e-ddd8-257f9636bc06"
      },
      "outputs": [
        {
          "output_type": "stream",
          "name": "stdout",
          "text": [
            "Hello World!\n",
            "Welcome\n",
            "So the sum of 500 and 600 is 1100\n"
          ]
        }
      ],
      "source": [
        "print(\"Hello World!\")\n",
        "print(\"Welcome\")\n",
        "a = 500\n",
        "b = 600\n",
        "c = a + b\n",
        "print(\"So the sum of {} and {} is {}\".format(a,b,c))"
      ]
    },
    {
      "cell_type": "code",
      "source": [
        "# Declaring and assigning value to a variable\n",
        "a = \"Apple\"\n",
        "print(a)\n",
        "\n",
        "# Changing value of a variable\n",
        "a = \"Aeroplane\"\n",
        "print(a)\n",
        "\n",
        "a = 100\n",
        "print(a)\n",
        "\n",
        "# Assigning multiple values to a variable\n",
        "b, c, d = 1, 2.5, \"Hello\"\n",
        "print(b, c, d)\n",
        "\n",
        "# Assigning sameo value to multiple variables\n",
        "b = c = d = 5\n",
        "print(b, c, d)"
      ],
      "metadata": {
        "colab": {
          "base_uri": "https://localhost:8080/"
        },
        "id": "mojdHOFOMaJq",
        "outputId": "0490551d-efc4-475d-824b-57be10b4cc55"
      },
      "execution_count": 1,
      "outputs": [
        {
          "output_type": "stream",
          "name": "stdout",
          "text": [
            "Apple\n",
            "Aeroplane\n",
            "100\n",
            "1 2.5 Hello\n",
            "5 5 5\n"
          ]
        }
      ]
    }
  ]
}