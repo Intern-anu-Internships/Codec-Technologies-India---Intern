{
  "nbformat": 4,
  "nbformat_minor": 0,
  "metadata": {
    "colab": {
      "provenance": []
    },
    "kernelspec": {
      "name": "python3",
      "display_name": "Python 3"
    },
    "language_info": {
      "name": "python"
    }
  },
  "cells": [
    {
      "cell_type": "markdown",
      "source": [
        "**Introduction to Python**"
      ],
      "metadata": {
        "id": "fBaGAKPMOM7u"
      }
    },
    {
      "cell_type": "code",
      "execution_count": 1,
      "metadata": {
        "colab": {
          "base_uri": "https://localhost:8080/"
        },
        "id": "RjXfS9UsK_B-",
        "outputId": "e787834c-40d2-4568-e924-d3801e1c925c"
      },
      "outputs": [
        {
          "output_type": "stream",
          "name": "stdout",
          "text": [
            "Hello World!\n",
            "Welcome\n",
            "So the sum of 500 and 600 is 1100\n"
          ]
        }
      ],
      "source": [
        "print(\"Hello World!\")\n",
        "print(\"Welcome\")\n",
        "a = 500\n",
        "b = 600\n",
        "c = a + b\n",
        "print(\"So the sum of {} and {} is {}\".format(a,b,c))"
      ]
    },
    {
      "cell_type": "code",
      "source": [
        "# Declaring and assigning value to a variable\n",
        "a = \"Apple\"\n",
        "print(a)\n",
        "\n",
        "# Changing value of a variable\n",
        "a = \"Aeroplane\"\n",
        "print(a)\n",
        "\n",
        "a = 100\n",
        "print(a)\n",
        "\n",
        "# Assigning multiple values to a variable\n",
        "b, c, d = 1, 2.5, \"Hello\"\n",
        "print(b, c, d)\n",
        "\n",
        "# Assigning same value to multiple variables\n",
        "b = c = d = 5\n",
        "print(b, c, d)"
      ],
      "metadata": {
        "colab": {
          "base_uri": "https://localhost:8080/"
        },
        "id": "mojdHOFOMaJq",
        "outputId": "da9eb70a-c32a-4630-95a0-fbfa23737ecf"
      },
      "execution_count": 2,
      "outputs": [
        {
          "output_type": "stream",
          "name": "stdout",
          "text": [
            "Apple\n",
            "Aeroplane\n",
            "100\n",
            "1 2.5 Hello\n",
            "5 5 5\n"
          ]
        }
      ]
    }
  ]
}